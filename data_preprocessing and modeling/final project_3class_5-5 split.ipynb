{
 "cells": [
  {
   "cell_type": "code",
   "execution_count": 1,
   "metadata": {},
   "outputs": [
    {
     "name": "stderr",
     "output_type": "stream",
     "text": [
      "Using TensorFlow backend.\n"
     ]
    }
   ],
   "source": [
    "from keras.applications.vgg16 import VGG16\n",
    "from keras.applications.resnet import ResNet50\n",
    "from keras.preprocessing import image\n",
    "from keras.applications.vgg16 import preprocess_input\n",
    "import numpy as np\n",
    "import pandas as pd\n",
    "import matplotlib.pyplot as plt\n",
    "import matplotlib as mpl\n",
    "import sklearn.metrics as metrics\n",
    "from sklearn.metrics import confusion_matrix, accuracy_score\n",
    "import tensorflow as tf\n",
    "from keras.layers import AveragePooling2D, MaxPooling2D, Concatenate\n",
    "from keras.layers.core import Flatten, Dense, Dropout\n",
    "from keras import Model, Input\n",
    "from keras.optimizers import Adam\n",
    "from keras.utils import to_categorical\n",
    "import cv2\n",
    "from keras import backend as K\n",
    "from keras.preprocessing.image import ImageDataGenerator\n",
    "import pickle\n",
    "from keras.callbacks import ModelCheckpoint, EarlyStopping, ReduceLROnPlateau"
   ]
  },
  {
   "cell_type": "code",
   "execution_count": 2,
   "metadata": {},
   "outputs": [],
   "source": [
    "'''\n",
    "Load Data\n",
    "'''\n",
    "\n",
    "def load_data(dir_data, dir_labels, training=True):\n",
    "    ''' Load each of the image files into memory \n",
    "    While this is feasible with a smaller dataset, for larger datasets,\n",
    "    not all the images would be able to be loaded into memory\n",
    "    When training=True, the labels are also loaded\n",
    "    '''\n",
    "    labels_pd = pd.read_csv(dir_labels)\n",
    "    ids       = labels_pd.id.values\n",
    "    data      = []\n",
    "    for identifier in ids:\n",
    "        fname     = dir_data + identifier.astype(str) + '.jpg'\n",
    "        image     = mpl.image.imread(fname)\n",
    "        data.append(image)\n",
    "    data = np.array(data) # Convert to Numpy array\n",
    "    if training:\n",
    "        labels = labels_pd.label.values\n",
    "        return data, labels\n",
    "    else:\n",
    "        return data, ids\n",
    "    pass"
   ]
  },
  {
   "cell_type": "code",
   "execution_count": 3,
   "metadata": {},
   "outputs": [],
   "source": [
    "'''\n",
    "Load Data\n",
    "'''\n",
    "dir_train_images  = './training_resized/'\n",
    "dir_test_images   = './validation_resized/'\n",
    "dir_train_labels  = './labels_training.csv'\n",
    "dir_test_labels   = './labels_validaton.csv'\n",
    "\n",
    "X_train, y_train = load_data(dir_train_images, dir_train_labels, training=True)\n",
    "\n",
    "X_train_rgb = []\n",
    "for img in X_train:\n",
    "    img_rgb = cv2.cvtColor(img,cv2.COLOR_GRAY2RGB)\n",
    "    X_train_rgb.append(img_rgb)\n",
    "X_train_rgb = np.array(X_train_rgb)\n",
    "\n",
    "X_train_rgb = (X_train_rgb)/255\n",
    "\n",
    "y_train[y_train==2]=1\n",
    "y_train[y_train==3]=2\n",
    "y_train_cat = to_categorical(y_train, num_classes = 3)"
   ]
  },
  {
   "cell_type": "code",
   "execution_count": 19,
   "metadata": {},
   "outputs": [],
   "source": [
    "\n",
    "'''\n",
    "split the training dataset into train/validation set\n",
    "'''\n",
    "\n",
    "from sklearn.model_selection import train_test_split\n",
    "X_training, X_test, y_training, y_test = train_test_split(X_train_rgb, y_train_cat, test_size=0.5, random_state=1428)\n",
    "\n",
    "X_training = X_training.reshape(-1,224,224,3)\n",
    "X_test = X_test.reshape(-1,224,224,3)"
   ]
  },
  {
   "cell_type": "code",
   "execution_count": 5,
   "metadata": {},
   "outputs": [],
   "source": [
    "'''\n",
    "Data preprocessing for test (validation folder)\n",
    "'''\n",
    "X_val, y_val = load_data(dir_test_images, dir_test_labels, training=True)\n",
    "X_val = np.mean(X_val, axis=3)\n",
    "X_val = X_val.astype(np.uint8)\n",
    "X_val_rgb = []\n",
    "for img in X_val:\n",
    "    img_rgb = cv2.cvtColor(img,cv2.COLOR_GRAY2RGB)\n",
    "    X_val_rgb.append(img_rgb)\n",
    "X_val_rgb = np.array(X_val_rgb)\n",
    "\n",
    "X_val_rgb = (X_val_rgb)/255\n",
    "\n",
    "\n",
    "y_val[y_val==2]=1\n",
    "y_val[y_val==3]=2\n",
    "y_val_cat = to_categorical(y_val, num_classes = 3)"
   ]
  },
  {
   "cell_type": "code",
   "execution_count": 20,
   "metadata": {},
   "outputs": [],
   "source": [
    "'''\n",
    "Pretrained Model\n",
    "'''\n",
    "\n",
    "### VGG ###\n",
    "\n",
    "# vgg_pretrained_model = VGG16(weights=\"imagenet\", \n",
    "#                              include_top= False,\n",
    "#                              input_tensor=Input(shape=(224, 224, 3)))\n",
    "# new_model = vgg_pretrained_model.output\n",
    "\n",
    "### ResNet50 ###\n",
    "\n",
    "resnet50_pretrained = ResNet50(include_top=False, weights='imagenet', input_tensor=Input(shape=(224, 224, 3)))\n",
    "\n",
    "new_model = resnet50_pretrained.output\n",
    "new_model = AveragePooling2D(pool_size=(3, 3), strides=(2, 2))(new_model)\n",
    "new_model = Dropout(0.5)(new_model)#4/8 add droup here\n",
    "new_model = Flatten(name=\"flatten\")(new_model)\n",
    "#new_model = Dense(12, activation=\"relu\")(new_model)\n",
    "#new_model = Dropout(0.3)(new_model)\n",
    "new_model = Dense(3, activation=\"softmax\")(new_model)    \n",
    "\n",
    "# model = Model(inputs=vgg_pretrained_model.input, outputs=new_model)\n",
    "model = Model(inputs=resnet50_pretrained.input, outputs=new_model)"
   ]
  },
  {
   "cell_type": "code",
   "execution_count": 21,
   "metadata": {},
   "outputs": [],
   "source": [
    "'''\n",
    "Data Augmentation\n",
    "'''\n",
    "\n",
    "#from keras.callbacks import EarlyStopping\n",
    "\n",
    "BS = 8\n",
    "EPOCHS = 50\n",
    "\n",
    "opt = Adam(lr=0.0001, decay=0.01 / (EPOCHS))\n",
    "model.compile(loss=\"categorical_crossentropy\", optimizer=opt, metrics=[\"accuracy\"])\n",
    "\n",
    "class_weight = {0: 1.,\n",
    "                1: 1.2,\n",
    "                2: 10.}\n",
    "\n",
    "aug = ImageDataGenerator(ImageDataGenerator(rotation_range=22.5, width_shift_range=0.1,\n",
    "                         height_shift_range=0.1, shear_range=0.1, zoom_range=0.2,\n",
    "                         horizontal_flip=True,vertical_flip =True,  fill_mode=\"nearest\"))\n",
    "\n",
    "# translation, rotation, horizontal flip, and intensity shift\n"
   ]
  },
  {
   "cell_type": "code",
   "execution_count": 22,
   "metadata": {},
   "outputs": [
    {
     "name": "stderr",
     "output_type": "stream",
     "text": [
      "C:\\programming\\lib\\site-packages\\keras\\callbacks\\callbacks.py:998: UserWarning: `epsilon` argument is deprecated and will be removed, use `min_delta` instead.\n",
      "  warnings.warn('`epsilon` argument is deprecated and '\n",
      "C:\\programming\\lib\\site-packages\\keras_preprocessing\\image\\image_data_generator.py:716: UserWarning: This ImageDataGenerator specifies `featurewise_center`, but it hasn't been fit on any training data. Fit it first by calling `.fit(numpy_data)`.\n",
      "  warnings.warn('This ImageDataGenerator specifies '\n"
     ]
    },
    {
     "name": "stdout",
     "output_type": "stream",
     "text": [
      "Epoch 1/50\n",
      "130/130 [==============================] - 35s 273ms/step - loss: 0.7808 - accuracy: 0.8112 - val_loss: 1.0521 - val_accuracy: 0.5125\n",
      "Epoch 2/50\n",
      "130/130 [==============================] - 28s 219ms/step - loss: 0.2730 - accuracy: 0.9471 - val_loss: 2.0478 - val_accuracy: 0.5125\n",
      "Epoch 3/50\n",
      "130/130 [==============================] - 29s 223ms/step - loss: 0.1579 - accuracy: 0.9600 - val_loss: 1.4193 - val_accuracy: 0.5134\n",
      "Epoch 4/50\n",
      "130/130 [==============================] - 29s 219ms/step - loss: 0.1088 - accuracy: 0.9700 - val_loss: 4.0230 - val_accuracy: 0.4290\n",
      "Epoch 5/50\n",
      "130/130 [==============================] - 29s 224ms/step - loss: 0.0537 - accuracy: 0.9806 - val_loss: 1.4071 - val_accuracy: 0.4923\n",
      "Epoch 6/50\n",
      "130/130 [==============================] - 28s 219ms/step - loss: 0.2740 - accuracy: 0.9622 - val_loss: 3.9497 - val_accuracy: 0.5298\n",
      "\n",
      "Epoch 00006: ReduceLROnPlateau reducing learning rate to 9.999999747378752e-06.\n",
      "Epoch 7/50\n",
      "130/130 [==============================] - 29s 221ms/step - loss: 0.1880 - accuracy: 0.9545 - val_loss: 2.6333 - val_accuracy: 0.5096\n",
      "Epoch 8/50\n",
      "130/130 [==============================] - 30s 230ms/step - loss: 0.1178 - accuracy: 0.9710 - val_loss: 1.8785 - val_accuracy: 0.5777\n",
      "Epoch 9/50\n",
      "130/130 [==============================] - 37s 281ms/step - loss: 0.0633 - accuracy: 0.9768 - val_loss: 1.0507 - val_accuracy: 0.7236\n",
      "Epoch 10/50\n",
      "130/130 [==============================] - 31s 240ms/step - loss: 0.0340 - accuracy: 0.9913 - val_loss: 0.6572 - val_accuracy: 0.8330\n",
      "Epoch 11/50\n",
      "130/130 [==============================] - 31s 241ms/step - loss: 0.0354 - accuracy: 0.9884 - val_loss: 0.5030 - val_accuracy: 0.8714\n",
      "Epoch 12/50\n",
      "130/130 [==============================] - 31s 240ms/step - loss: 0.0220 - accuracy: 0.9942 - val_loss: 0.3463 - val_accuracy: 0.9079\n",
      "Epoch 13/50\n",
      "130/130 [==============================] - 34s 261ms/step - loss: 0.0276 - accuracy: 0.9942 - val_loss: 0.2801 - val_accuracy: 0.9280\n",
      "Epoch 14/50\n",
      "130/130 [==============================] - 30s 230ms/step - loss: 0.0158 - accuracy: 0.9981 - val_loss: 0.2705 - val_accuracy: 0.9328\n",
      "Epoch 15/50\n",
      "130/130 [==============================] - 37s 282ms/step - loss: 0.0203 - accuracy: 0.9942 - val_loss: 0.2383 - val_accuracy: 0.9482\n",
      "Epoch 16/50\n",
      "130/130 [==============================] - 30s 232ms/step - loss: 0.0122 - accuracy: 0.9971 - val_loss: 0.2421 - val_accuracy: 0.9520\n",
      "Epoch 17/50\n",
      "130/130 [==============================] - 32s 246ms/step - loss: 0.0165 - accuracy: 0.9971 - val_loss: 0.2430 - val_accuracy: 0.9501\n",
      "Epoch 18/50\n",
      "130/130 [==============================] - 43s 331ms/step - loss: 0.0060 - accuracy: 1.0000 - val_loss: 0.2380 - val_accuracy: 0.9520\n",
      "Epoch 19/50\n",
      "130/130 [==============================] - 31s 237ms/step - loss: 0.0150 - accuracy: 0.9990 - val_loss: 0.2520 - val_accuracy: 0.9443\n",
      "Epoch 20/50\n",
      "130/130 [==============================] - 31s 237ms/step - loss: 0.0214 - accuracy: 0.9981 - val_loss: 0.2798 - val_accuracy: 0.9376\n",
      "Epoch 21/50\n",
      "130/130 [==============================] - 31s 238ms/step - loss: 0.0106 - accuracy: 0.9971 - val_loss: 0.2696 - val_accuracy: 0.9434\n",
      "Epoch 22/50\n",
      "130/130 [==============================] - 31s 237ms/step - loss: 0.0088 - accuracy: 0.9981 - val_loss: 0.2495 - val_accuracy: 0.9511\n",
      "Epoch 23/50\n",
      "130/130 [==============================] - 31s 238ms/step - loss: 0.0117 - accuracy: 0.9981 - val_loss: 0.2476 - val_accuracy: 0.9511\n",
      "\n",
      "Epoch 00023: ReduceLROnPlateau reducing learning rate to 9.999999747378752e-07.\n",
      "Epoch 24/50\n",
      "130/130 [==============================] - 43s 327ms/step - loss: 0.0076 - accuracy: 0.9990 - val_loss: 0.2474 - val_accuracy: 0.9511\n",
      "Epoch 25/50\n",
      "130/130 [==============================] - 32s 245ms/step - loss: 0.0043 - accuracy: 1.0000 - val_loss: 0.2479 - val_accuracy: 0.9520\n",
      "Epoch 26/50\n",
      "130/130 [==============================] - 33s 253ms/step - loss: 0.0075 - accuracy: 0.9990 - val_loss: 0.2462 - val_accuracy: 0.9520\n",
      "Epoch 27/50\n",
      "130/130 [==============================] - 34s 259ms/step - loss: 0.0061 - accuracy: 0.9990 - val_loss: 0.2445 - val_accuracy: 0.9530\n",
      "Epoch 28/50\n",
      "130/130 [==============================] - 33s 257ms/step - loss: 0.0065 - accuracy: 0.9990 - val_loss: 0.2424 - val_accuracy: 0.9520\n",
      "\n",
      "Epoch 00028: ReduceLROnPlateau reducing learning rate to 9.999999974752428e-08.\n",
      "Epoch 00028: early stopping\n"
     ]
    }
   ],
   "source": [
    "'''\n",
    "Model fit\n",
    "'''\n",
    "np.random.seed(28)\n",
    "earlyStopping = EarlyStopping(monitor='val_loss', patience=10, verbose=1, mode='min')\n",
    "mcp_save = ModelCheckpoint('.mdl_wts.hdf5', save_best_only=True, monitor='val_loss', mode='min')\n",
    "reduce_lr_loss = ReduceLROnPlateau(monitor='val_loss', factor=0.1, patience=5, verbose=1, epsilon=1e-4, mode='min')\n",
    "H = model.fit_generator(aug.flow(X_training, y_training, batch_size=BS),\n",
    "                        validation_data=(X_test, y_test), steps_per_epoch=len(X_training) // BS, epochs=EPOCHS, verbose=1,\n",
    "                        class_weight = class_weight, callbacks = [earlyStopping, mcp_save, reduce_lr_loss])"
   ]
  },
  {
   "cell_type": "code",
   "execution_count": 23,
   "metadata": {},
   "outputs": [
    {
     "data": {
      "text/plain": [
       "<matplotlib.legend.Legend at 0x2730f1bae88>"
      ]
     },
     "execution_count": 23,
     "metadata": {},
     "output_type": "execute_result"
    },
    {
     "data": {
      "image/png": "[encoded data removed]",
      "text/plain": [
       "<Figure size 432x288 with 1 Axes>"
      ]
     },
     "metadata": {
      "needs_background": "light"
     },
     "output_type": "display_data"
    }
   ],
   "source": [
    "plt.plot(H.history['val_accuracy'], label = \"val\")\n",
    "plt.plot(H.history['accuracy'], label = \"train\")\n",
    "plt.ylabel(\"accuracy\")\n",
    "plt.xlabel(\"epoch\")\n",
    "plt.legend()"
   ]
  },
  {
   "cell_type": "code",
   "execution_count": 24,
   "metadata": {},
   "outputs": [
    {
     "name": "stdout",
     "output_type": "stream",
     "text": [
      "0.9520153550863724\n"
     ]
    },
    {
     "data": {
      "text/html": [
       "<div>\n",
       "<style scoped>\n",
       "    .dataframe tbody tr th:only-of-type {\n",
       "        vertical-align: middle;\n",
       "    }\n",
       "\n",
       "    .dataframe tbody tr th {\n",
       "        vertical-align: top;\n",
       "    }\n",
       "\n",
       "    .dataframe thead th {\n",
       "        text-align: right;\n",
       "    }\n",
       "</style>\n",
       "<table border=\"1\" class=\"dataframe\">\n",
       "  <thead>\n",
       "    <tr style=\"text-align: right;\">\n",
       "      <th>Predicted</th>\n",
       "      <th>0</th>\n",
       "      <th>1</th>\n",
       "      <th>2</th>\n",
       "      <th>All</th>\n",
       "    </tr>\n",
       "    <tr>\n",
       "      <th>True</th>\n",
       "      <th></th>\n",
       "      <th></th>\n",
       "      <th></th>\n",
       "      <th></th>\n",
       "    </tr>\n",
       "  </thead>\n",
       "  <tbody>\n",
       "    <tr>\n",
       "      <th>0</th>\n",
       "      <td>423</td>\n",
       "      <td>18</td>\n",
       "      <td>6</td>\n",
       "      <td>447</td>\n",
       "    </tr>\n",
       "    <tr>\n",
       "      <th>1</th>\n",
       "      <td>20</td>\n",
       "      <td>510</td>\n",
       "      <td>4</td>\n",
       "      <td>534</td>\n",
       "    </tr>\n",
       "    <tr>\n",
       "      <th>2</th>\n",
       "      <td>0</td>\n",
       "      <td>2</td>\n",
       "      <td>59</td>\n",
       "      <td>61</td>\n",
       "    </tr>\n",
       "    <tr>\n",
       "      <th>All</th>\n",
       "      <td>443</td>\n",
       "      <td>530</td>\n",
       "      <td>69</td>\n",
       "      <td>1042</td>\n",
       "    </tr>\n",
       "  </tbody>\n",
       "</table>\n",
       "</div>"
      ],
      "text/plain": [
       "Predicted    0    1   2   All\n",
       "True                         \n",
       "0          423   18   6   447\n",
       "1           20  510   4   534\n",
       "2            0    2  59    61\n",
       "All        443  530  69  1042"
      ]
     },
     "execution_count": 24,
     "metadata": {},
     "output_type": "execute_result"
    }
   ],
   "source": [
    "'''\n",
    "prediction\n",
    "'''\n",
    "score = model.predict(np.array(X_test))\n",
    "\n",
    "y_preds = np.argmax(score, axis=1)\n",
    "ytest = np.argmax(y_test, axis=1)\n",
    "print(accuracy_score(ytest, y_preds))\n",
    "#confusion_matrix(ytest, y_preds)\n",
    "\n",
    "pd.crosstab(ytest, y_preds, rownames=['True'], colnames=['Predicted'], margins=True)"
   ]
  },
  {
   "cell_type": "code",
   "execution_count": 25,
   "metadata": {},
   "outputs": [
    {
     "name": "stdout",
     "output_type": "stream",
     "text": [
      "0.9759961593855017\n"
     ]
    },
    {
     "data": {
      "text/html": [
       "<div>\n",
       "<style scoped>\n",
       "    .dataframe tbody tr th:only-of-type {\n",
       "        vertical-align: middle;\n",
       "    }\n",
       "\n",
       "    .dataframe tbody tr th {\n",
       "        vertical-align: top;\n",
       "    }\n",
       "\n",
       "    .dataframe thead th {\n",
       "        text-align: right;\n",
       "    }\n",
       "</style>\n",
       "<table border=\"1\" class=\"dataframe\">\n",
       "  <thead>\n",
       "    <tr style=\"text-align: right;\">\n",
       "      <th>Predicted</th>\n",
       "      <th>0</th>\n",
       "      <th>1</th>\n",
       "      <th>2</th>\n",
       "      <th>All</th>\n",
       "    </tr>\n",
       "    <tr>\n",
       "      <th>True</th>\n",
       "      <th></th>\n",
       "      <th></th>\n",
       "      <th></th>\n",
       "      <th></th>\n",
       "    </tr>\n",
       "  </thead>\n",
       "  <tbody>\n",
       "    <tr>\n",
       "      <th>0</th>\n",
       "      <td>877</td>\n",
       "      <td>18</td>\n",
       "      <td>6</td>\n",
       "      <td>901</td>\n",
       "    </tr>\n",
       "    <tr>\n",
       "      <th>1</th>\n",
       "      <td>20</td>\n",
       "      <td>1038</td>\n",
       "      <td>4</td>\n",
       "      <td>1062</td>\n",
       "    </tr>\n",
       "    <tr>\n",
       "      <th>2</th>\n",
       "      <td>0</td>\n",
       "      <td>2</td>\n",
       "      <td>118</td>\n",
       "      <td>120</td>\n",
       "    </tr>\n",
       "    <tr>\n",
       "      <th>All</th>\n",
       "      <td>897</td>\n",
       "      <td>1058</td>\n",
       "      <td>128</td>\n",
       "      <td>2083</td>\n",
       "    </tr>\n",
       "  </tbody>\n",
       "</table>\n",
       "</div>"
      ],
      "text/plain": [
       "Predicted    0     1    2   All\n",
       "True                           \n",
       "0          877    18    6   901\n",
       "1           20  1038    4  1062\n",
       "2            0     2  118   120\n",
       "All        897  1058  128  2083"
      ]
     },
     "execution_count": 25,
     "metadata": {},
     "output_type": "execute_result"
    }
   ],
   "source": [
    "score = model.predict(np.array(X_train_rgb))\n",
    "\n",
    "y_preds = np.argmax(score, axis=1)\n",
    "\n",
    "print(accuracy_score(y_train, y_preds))\n",
    "#confusion_matrix(ytest, y_preds)\n",
    "\n",
    "pd.crosstab(y_train, y_preds, rownames=['True'], colnames=['Predicted'], margins=True)"
   ]
  },
  {
   "cell_type": "code",
   "execution_count": null,
   "metadata": {},
   "outputs": [],
   "source": [
    "'''\n",
    "If predictions is good\n",
    "'''\n",
    "\n",
    "# score = model.predict(X_train_rgb)\n",
    "# np.savetxt(\"./scores/resnet50_scores.csv\", score, delimiter=\",\")\n",
    "\n",
    "# y_preds = np.argmax(score, axis=1)\n",
    "\n",
    "# accuracy_score(y_train.ravel(), y_preds)\n",
    "# confusion_matrix(y_train.ravel(), y_preds)\n",
    "\n",
    "# pd.crosstab(y_train, y_preds, rownames=['True'], colnames=['Predicted'], margins=True)"
   ]
  },
  {
   "cell_type": "code",
   "execution_count": 10,
   "metadata": {},
   "outputs": [],
   "source": [
    "'''\n",
    "save model\n",
    "'''\n",
    "filename = 'cnn_1d_do05_avpoolstrid_r50_lr1e4_d001_cwa10a125a100_catetry_moreaug_acc_seed28.sav'\n",
    "pickle.dump(model, open(filename, 'wb'))\n",
    "history = \"hist_\"+filename\n",
    "pickle.dump(H, open(history, 'wb'))"
   ]
  },
  {
   "cell_type": "code",
   "execution_count": 18,
   "metadata": {},
   "outputs": [],
   "source": [
    "'''\n",
    "load model\n",
    "'''\n",
    "#filename = 'cnn_r50_aug_lr1e4_cwa01a012a06a10_catetry_nn64to20_moreaug_.sav'\n",
    "loaded_model = pickle.load(open(filename, 'rb'))"
   ]
  },
  {
   "cell_type": "code",
   "execution_count": 26,
   "metadata": {},
   "outputs": [
    {
     "name": "stdout",
     "output_type": "stream",
     "text": [
      "0.868421052631579\n"
     ]
    },
    {
     "data": {
      "text/html": [
       "<div>\n",
       "<style scoped>\n",
       "    .dataframe tbody tr th:only-of-type {\n",
       "        vertical-align: middle;\n",
       "    }\n",
       "\n",
       "    .dataframe tbody tr th {\n",
       "        vertical-align: top;\n",
       "    }\n",
       "\n",
       "    .dataframe thead th {\n",
       "        text-align: right;\n",
       "    }\n",
       "</style>\n",
       "<table border=\"1\" class=\"dataframe\">\n",
       "  <thead>\n",
       "    <tr style=\"text-align: right;\">\n",
       "      <th>Predicted</th>\n",
       "      <th>0</th>\n",
       "      <th>1</th>\n",
       "      <th>2</th>\n",
       "      <th>All</th>\n",
       "    </tr>\n",
       "    <tr>\n",
       "      <th>True</th>\n",
       "      <th></th>\n",
       "      <th></th>\n",
       "      <th></th>\n",
       "      <th></th>\n",
       "    </tr>\n",
       "  </thead>\n",
       "  <tbody>\n",
       "    <tr>\n",
       "      <th>0</th>\n",
       "      <td>449</td>\n",
       "      <td>1</td>\n",
       "      <td>0</td>\n",
       "      <td>450</td>\n",
       "    </tr>\n",
       "    <tr>\n",
       "      <th>1</th>\n",
       "      <td>107</td>\n",
       "      <td>402</td>\n",
       "      <td>20</td>\n",
       "      <td>529</td>\n",
       "    </tr>\n",
       "    <tr>\n",
       "      <th>2</th>\n",
       "      <td>0</td>\n",
       "      <td>2</td>\n",
       "      <td>7</td>\n",
       "      <td>9</td>\n",
       "    </tr>\n",
       "    <tr>\n",
       "      <th>All</th>\n",
       "      <td>556</td>\n",
       "      <td>405</td>\n",
       "      <td>27</td>\n",
       "      <td>988</td>\n",
       "    </tr>\n",
       "  </tbody>\n",
       "</table>\n",
       "</div>"
      ],
      "text/plain": [
       "Predicted    0    1   2  All\n",
       "True                        \n",
       "0          449    1   0  450\n",
       "1          107  402  20  529\n",
       "2            0    2   7    9\n",
       "All        556  405  27  988"
      ]
     },
     "execution_count": 26,
     "metadata": {},
     "output_type": "execute_result"
    }
   ],
   "source": [
    "'''\n",
    "prediction\n",
    "'''\n",
    "#score = loaded_model.predict(np.array(X_val_rgb))\n",
    "score = model.predict(np.array(X_val_rgb))\n",
    "y_preds = np.argmax(score, axis=1)\n",
    "\n",
    "print(accuracy_score(y_val.ravel(), y_preds))\n",
    "#print(confusion_matrix(y_val.ravel(), y_preds))\n",
    "\n",
    "pd.crosstab(y_val, y_preds, rownames=['True'], colnames=['Predicted'], margins=True)"
   ]
  },
  {
   "cell_type": "code",
   "execution_count": null,
   "metadata": {},
   "outputs": [],
   "source": []
  },
  {
   "cell_type": "code",
   "execution_count": null,
   "metadata": {},
   "outputs": [],
   "source": []
  },
  {
   "cell_type": "code",
   "execution_count": null,
   "metadata": {},
   "outputs": [],
   "source": []
  },
  {
   "cell_type": "code",
   "execution_count": null,
   "metadata": {},
   "outputs": [],
   "source": []
  },
  {
   "cell_type": "code",
   "execution_count": null,
   "metadata": {},
   "outputs": [],
   "source": []
  },
  {
   "cell_type": "code",
   "execution_count": null,
   "metadata": {},
   "outputs": [],
   "source": []
  }
 ],
 "metadata": {
  "kernelspec": {
   "display_name": "Python 3",
   "language": "python",
   "name": "python3"
  },
  "language_info": {
   "codemirror_mode": {
    "name": "ipython",
    "version": 3
   },
   "file_extension": ".py",
   "mimetype": "text/x-python",
   "name": "python",
   "nbconvert_exporter": "python",
   "pygments_lexer": "ipython3",
   "version": "3.7.7"
  }
 },
 "nbformat": 4,
 "nbformat_minor": 4
}
